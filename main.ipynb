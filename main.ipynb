{
 "cells": [
  {
   "cell_type": "code",
   "execution_count": 4,
   "id": "d92a9fea",
   "metadata": {},
   "outputs": [],
   "source": [
    "import splitfolders\n",
    "import os\n",
    "from tensorflow.keras.preprocessing.image import ImageDataGenerator\n",
    "from tensorflow.keras.applications.resnet50 import preprocess_input"
   ]
  },
  {
   "cell_type": "markdown",
   "id": "82fd8756",
   "metadata": {},
   "source": [
    "# DATA - GETTING AND PREPROCESSING"
   ]
  },
  {
   "cell_type": "code",
   "execution_count": 5,
   "id": "7becfaed",
   "metadata": {},
   "outputs": [],
   "source": [
    "input_directory = \"original_dataset\"\n",
    "output_directory = \"datasets\"\n",
    "\n",
    "if not os.path.exists(output_directory):\n",
    "    splitfolders.ratio(input_directory, \n",
    "                       output=output_directory,\n",
    "                       ratio=(0.85, 0.1,0.05)) "
   ]
  },
  {
   "cell_type": "code",
   "execution_count": 6,
   "id": "75a0fa8f",
   "metadata": {},
   "outputs": [],
   "source": [
    "def get_image_generator (preprocessing_function, horizontal_flip, vertical_flip, rotation_range, zoom_range, width_shift_range,height_shift_range,shear_range, featurewise_std_normalization,brightness_range, rescale):\n",
    "    \n",
    "    image_generator = ImageDataGenerator(preprocessing_function=preprocessing_function,\n",
    "                                         horizontal_flip=horizontal_flip,\n",
    "                                         vertical_flip= vertical_flip,\n",
    "                                         rotation_range=rotation_range,\n",
    "                                         zoom_range=zoom_range,\n",
    "                                         width_shift_range=width_shift_range,\n",
    "                                         height_shift_range=height_shift_range,\n",
    "                                         shear_range=shear_range,\n",
    "                                         featurewise_std_normalization=featurewise_std_normalization,\n",
    "                                         brightness_range=brightness_range,\n",
    "                                         rescale = rescale)\n",
    "    \n",
    "    return image_generator"
   ]
  },
  {
   "cell_type": "code",
   "execution_count": 7,
   "id": "5bbd9434",
   "metadata": {},
   "outputs": [],
   "source": [
    "train_image_generator = get_image_generator(preprocessing_function=preprocess_input,\n",
    "                                            horizontal_flip=True,\n",
    "                                            vertical_flip=False,\n",
    "                                            rotation_range=10,\n",
    "                                            zoom_range=0.15,\n",
    "                                            width_shift_range=0.1,\n",
    "                                            height_shift_range=0.1,\n",
    "                                            shear_range=0.15,\n",
    "                                            featurewise_std_normalization=False,\n",
    "                                            brightness_range=[0.9, 1.1],\n",
    "                                            rescale = 1/255.)\n",
    "\n",
    "val_image_generator = get_image_generator(preprocessing_function=preprocess_input,\n",
    "                                          horizontal_flip=False,\n",
    "                                          vertical_flip=False,\n",
    "                                          rotation_range=0,\n",
    "                                          zoom_range=0.0,\n",
    "                                          width_shift_range=0.0,\n",
    "                                          height_shift_range=0.0,\n",
    "                                          shear_range=0.0,\n",
    "                                          featurewise_std_normalization=False,\n",
    "                                          brightness_range=None,\n",
    "                                          rescale = 1/255.)\n",
    "\n",
    "test_image_generator = get_image_generator(preprocessing_function=preprocess_input,\n",
    "                                           horizontal_flip=False,\n",
    "                                           vertical_flip=False,\n",
    "                                           rotation_range=0,\n",
    "                                           zoom_range=0.0,\n",
    "                                           width_shift_range=0.0,\n",
    "                                           height_shift_range=0.0,\n",
    "                                           shear_range=0.0,\n",
    "                                           featurewise_std_normalization=False,\n",
    "                                           brightness_range=None,\n",
    "                                           rescale = 1/255.)"
   ]
  },
  {
   "cell_type": "code",
   "execution_count": 8,
   "id": "a22e9ec4",
   "metadata": {},
   "outputs": [],
   "source": [
    "def get_data_set(directory, image_generator, target_size, batch_size=32): \n",
    "\n",
    "    data_set = image_generator.flow_from_directory(directory=directory, \n",
    "                                                   target_size=target_size,\n",
    "                                                   batch_size=batch_size,\n",
    "                                                   shuffle=True,\n",
    "                                                   class_mode='categorical')\n",
    "\n",
    "    \n",
    "    return data_set "
   ]
  },
  {
   "cell_type": "code",
   "execution_count": 9,
   "id": "c904ca75",
   "metadata": {},
   "outputs": [],
   "source": [
    "datasets_directory = os.path.join(os.getcwd(), output_directory)\n",
    "train_dataset_directory = os.path.join(datasets_directory, \"train\")\n",
    "val_dataset_directory = os.path.join(datasets_directory, \"val\")\n",
    "test_dataset_directory = os.path.join(datasets_directory, \"test\")"
   ]
  },
  {
   "cell_type": "code",
   "execution_count": 11,
   "id": "b54d3f58",
   "metadata": {},
   "outputs": [
    {
     "name": "stdout",
     "output_type": "stream",
     "text": [
      "Found 1555 images belonging to 12 classes.\n",
      "Found 103 images belonging to 12 classes.\n",
      "Found 177 images belonging to 12 classes.\n"
     ]
    }
   ],
   "source": [
    "target_size = (224,224)\n",
    "batch_size = 32\n",
    "\n",
    "train_dataset = get_data_set(train_dataset_directory,\n",
    "                             train_image_generator, \n",
    "                             target_size=target_size,\n",
    "                             batch_size=batch_size)\n",
    "\n",
    "test_dataset = get_data_set(test_dataset_directory,\n",
    "                            test_image_generator, \n",
    "                            target_size=target_size,\n",
    "                            batch_size=batch_size)\n",
    "\n",
    "val_dataset = get_data_set(val_dataset_directory,\n",
    "                           val_image_generator, \n",
    "                           target_size=target_size,\n",
    "                           batch_size=batch_size)"
   ]
  }
 ],
 "metadata": {
  "kernelspec": {
   "display_name": "Python 3 (ipykernel)",
   "language": "python",
   "name": "python3"
  },
  "language_info": {
   "codemirror_mode": {
    "name": "ipython",
    "version": 3
   },
   "file_extension": ".py",
   "mimetype": "text/x-python",
   "name": "python",
   "nbconvert_exporter": "python",
   "pygments_lexer": "ipython3",
   "version": "3.9.16"
  }
 },
 "nbformat": 4,
 "nbformat_minor": 5
}
